{
  "nbformat": 4,
  "nbformat_minor": 0,
  "metadata": {
    "colab": {
      "name": "210330_new_way.ipynb",
      "private_outputs": true,
      "provenance": [],
      "collapsed_sections": [],
      "authorship_tag": "ABX9TyO7hBmCTZHKI5C1m6XHleLp"
    },
    "kernelspec": {
      "name": "python3",
      "display_name": "Python 3"
    },
    "language_info": {
      "name": "python"
    }
  },
  "cells": [
    {
      "cell_type": "markdown",
      "metadata": {
        "id": "7zP_Xcz07hGz"
      },
      "source": [
        "# 형태소 분석, 불용어, 예외처리 후 \n",
        "## 기존 w2v 모델보다 빈도수로 만든 알고리즘이 성능이 더 좋을 수 있다는 취지에서 시작"
      ]
    },
    {
      "cell_type": "code",
      "metadata": {
        "id": "8LJB1yNt9ctO"
      },
      "source": [
        "df = pd.DataFrame(index = range(0, 0), columns = [do_list])\n",
        "df.insert(loc = 0, column = 'object', value = object_list) # 첫번째열의 object 컬럼 추가, 값은 object_list의 값\n",
        "df = df.fillna(0)"
      ],
      "execution_count": null,
      "outputs": []
    },
    {
      "cell_type": "code",
      "metadata": {
        "id": "A4j1d5Kf_5b8"
      },
      "source": [
        "from tqdm import tqdm\n",
        "break_num = 0\n",
        "for idx, obj in tqdm(enumerate(object_list)):\n",
        "    abtest = []\n",
        "    for result in results:\n",
        "        if obj iin result:\n",
        "            abtest.append(result)\n",
        "    for do in do_list:\n",
        "        for ab in abtest:\n",
        "            if do in ab:\n",
        "                df.loc[idx, do] += 1"
      ],
      "execution_count": null,
      "outputs": []
    },
    {
      "cell_type": "code",
      "metadata": {
        "id": "35GQW6bb_5_V"
      },
      "source": [
        ""
      ],
      "execution_count": null,
      "outputs": []
    },
    {
      "cell_type": "code",
      "metadata": {
        "id": "OfonFvE2_6Hc"
      },
      "source": [
        ""
      ],
      "execution_count": null,
      "outputs": []
    },
    {
      "cell_type": "code",
      "metadata": {
        "id": "rUgNTGKc_6M1"
      },
      "source": [
        ""
      ],
      "execution_count": null,
      "outputs": []
    },
    {
      "cell_type": "code",
      "metadata": {
        "id": "RxGQA6WC_6Q2"
      },
      "source": [
        ""
      ],
      "execution_count": null,
      "outputs": []
    },
    {
      "cell_type": "code",
      "metadata": {
        "id": "E2TL1xoq_6Uy"
      },
      "source": [
        ""
      ],
      "execution_count": null,
      "outputs": []
    },
    {
      "cell_type": "code",
      "metadata": {
        "id": "F7R0A9Vm_6YY"
      },
      "source": [
        ""
      ],
      "execution_count": null,
      "outputs": []
    },
    {
      "cell_type": "code",
      "metadata": {
        "id": "Q0SXsuE2_6c2"
      },
      "source": [
        ""
      ],
      "execution_count": null,
      "outputs": []
    },
    {
      "cell_type": "code",
      "metadata": {
        "id": "t9HO_tRJ_6gl"
      },
      "source": [
        ""
      ],
      "execution_count": null,
      "outputs": []
    },
    {
      "cell_type": "code",
      "metadata": {
        "id": "GQ_s_tZs_6j-"
      },
      "source": [
        ""
      ],
      "execution_count": null,
      "outputs": []
    }
  ]
}